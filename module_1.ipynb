{
  "nbformat": 4,
  "nbformat_minor": 0,
  "metadata": {
    "colab": {
      "name": "module 1",
      "provenance": [],
      "authorship_tag": "ABX9TyPabcYXcUUjTtA6bjrFp3FV",
      "include_colab_link": true
    },
    "kernelspec": {
      "name": "python3",
      "display_name": "Python 3"
    },
    "language_info": {
      "name": "python"
    }
  },
  "cells": [
    {
      "cell_type": "markdown",
      "metadata": {
        "id": "view-in-github",
        "colab_type": "text"
      },
      "source": [
        "<a href=\"https://colab.research.google.com/github/roshGitam/python-new/blob/MODULE-1/module_1.ipynb\" target=\"_parent\"><img src=\"https://colab.research.google.com/assets/colab-badge.svg\" alt=\"Open In Colab\"/></a>"
      ]
    },
    {
      "cell_type": "code",
      "execution_count": null,
      "metadata": {
        "colab": {
          "base_uri": "https://localhost:8080/"
        },
        "id": "M4_-bCws3sTt",
        "outputId": "7656403a-aaf3-4072-890a-768669d8f1d4"
      },
      "outputs": [
        {
          "name": "stdout",
          "output_type": "stream",
          "text": [
            "Enter your value: 10\n"
          ]
        }
      ],
      "source": [
        "###Accept input from user and store it in variable and print the value\n",
        "val = input(\"Enter your value: \")"
      ]
    },
    {
      "cell_type": "code",
      "source": [
        "### Use of print statements and use of (.format )for printing different data types\n",
        "age =18\n",
        "name =\"rosh {}\"\n",
        "print(name.format(age))\n"
      ],
      "metadata": {
        "colab": {
          "base_uri": "https://localhost:8080/"
        },
        "id": "yEMp8AOP4XkL",
        "outputId": "dd9f5682-5c1e-4c18-e145-1f17de5de8e8"
      },
      "execution_count": null,
      "outputs": [
        {
          "output_type": "stream",
          "name": "stdout",
          "text": [
            "rosh 18\n"
          ]
        }
      ]
    },
    {
      "cell_type": "code",
      "source": [
        "### Take 2 numbers as user input and add, multiply, divide, subtract\n",
        "a=8\n",
        "b=5\n",
        "c=a+b\n",
        "d=a-b\n",
        "e=a*d\n",
        "f=a/b\n",
        "g=a%b\n",
        "print(c)\n",
        "print(d)\n",
        "print(e)\n",
        "print(f)\n",
        "print(g)"
      ],
      "metadata": {
        "colab": {
          "base_uri": "https://localhost:8080/"
        },
        "id": "x2x38JkX4i3J",
        "outputId": "c18a9004-4c2a-4d4a-dd66-96cf86363bff"
      },
      "execution_count": null,
      "outputs": [
        {
          "output_type": "stream",
          "name": "stdout",
          "text": [
            "13\n",
            "3\n",
            "24\n",
            "1.6\n",
            "3\n"
          ]
        }
      ]
    },
    {
      "cell_type": "code",
      "source": [
        "### x Conversion of one unit to another (miles to km and etc)\n",
        "a=4\n",
        "min=4*60\n",
        "print(min)"
      ],
      "metadata": {
        "colab": {
          "base_uri": "https://localhost:8080/"
        },
        "id": "_rU70E9L4pV6",
        "outputId": "29120c9d-d4b5-4d7b-d840-ed6bcbf03172"
      },
      "execution_count": null,
      "outputs": [
        {
          "output_type": "stream",
          "name": "stdout",
          "text": [
            "240\n"
          ]
        }
      ]
    },
    {
      "cell_type": "code",
      "source": [
        "###x Conversion of one unit to another(hours to minutes)\n",
        "hours = int(input(\"Input hours: \")) * 3600\n",
        "minutes = int(input(\"Input minutes: \")) * 60\n",
        "time =hours + minutes\n",
        "print(\"The amounts of seconds\", time)"
      ],
      "metadata": {
        "colab": {
          "base_uri": "https://localhost:8080/"
        },
        "id": "0zdIAGjy4t-E",
        "outputId": "90bcf688-dcf7-4804-ef39-c5b06cbb1530"
      },
      "execution_count": null,
      "outputs": [
        {
          "output_type": "stream",
          "name": "stdout",
          "text": [
            "Input hours: 10\n",
            "Input minutes: 3\n",
            "The amounts of seconds 36180\n"
          ]
        }
      ]
    },
    {
      "cell_type": "code",
      "source": [
        "### Usage of mathematical functions in python like math.ceil, floor, fabs, fmod, trunc,\n",
        "import math\n",
        "a=4.567\n",
        "print(math.ceil(a))\n",
        "b=-9\n",
        "print(math.fabs(b))\n",
        "c=3.67\n",
        "print(math.floor(c))\n",
        "d=2**3\n",
        "print(d)\n",
        "e=math.sqrt(81)\n",
        "print(e)\n"
      ],
      "metadata": {
        "colab": {
          "base_uri": "https://localhost:8080/"
        },
        "id": "Ugra7iaT4xDD",
        "outputId": "978f77b3-cd09-44eb-870a-794f632c0568"
      },
      "execution_count": null,
      "outputs": [
        {
          "output_type": "stream",
          "name": "stdout",
          "text": [
            "5\n",
            "9.0\n",
            "3\n",
            "8\n",
            "9.0\n"
          ]
        }
      ]
    },
    {
      "cell_type": "code",
      "source": [
        "### Building a mathematical calculator that can perform operations according to user input\n",
        "a=2\n",
        "b=3\n",
        "print('1=\"addition\",2=\"subtraction\",3=\"multiplication\",4=\"division\"')\n",
        "c=int(input(\"enter any number upto 4\"))\n",
        "if c==1:\n",
        "print(a+b)\n",
        "elif c==2:\n",
        "print(a-b)\n",
        "elif c==3:\n",
        "print(a*b)\n",
        "elif c==4:\n",
        "print(a/b)\n",
        "else:\n",
        "print(invalid)\n",
        "1=\"addition\",2=\"subtraction\",3=\"multiplication\",4=\"division\"\n",
        "enter any number upto 41\n",
        "\n",
        "\n"
      ],
      "metadata": {
        "colab": {
          "base_uri": "https://localhost:8080/",
          "height": 135
        },
        "id": "tyrqT3xk43ZE",
        "outputId": "f74ed613-71ca-4c1f-cd98-afa3d76bd04f"
      },
      "execution_count": null,
      "outputs": [
        {
          "output_type": "error",
          "ename": "IndentationError",
          "evalue": "ignored",
          "traceback": [
            "\u001b[0;36m  File \u001b[0;32m\"<ipython-input-12-3641407a75f4>\"\u001b[0;36m, line \u001b[0;32m7\u001b[0m\n\u001b[0;31m    print(a+b)\u001b[0m\n\u001b[0m        ^\u001b[0m\n\u001b[0;31mIndentationError\u001b[0m\u001b[0;31m:\u001b[0m expected an indented block\n"
          ]
        }
      ]
    },
    {
      "cell_type": "code",
      "source": [
        "### Accepting 5 different subject marks from user and displaying the grade of the student\n",
        "sub1=int(input(\"Enter marks of the first subject: \"))\n",
        "sub2=int(input(\"Enter marks of the second subject: \"))\n",
        "sub3=int(input(\"Enter marks of the third subject: \"))\n",
        "sub4=int(input(\"Enter marks of the fourth subject: \"))\n",
        "sub5=int(input(\"Enter marks of the fifth subject: \"))\n",
        "avg=(sub1+sub2+sub3+sub4+sub4)/5\n",
        "if (avg>=90):\n",
        "print(\"Grade: A\")\n",
        "elif (avg>=80 and avg<90):\n",
        "print(\"Grade: B\")"
      ],
      "metadata": {
        "id": "YnhLuhnZ5fYa"
      },
      "execution_count": null,
      "outputs": []
    },
    {
      "cell_type": "code",
      "source": [
        "### Printing all even numbers, odd numbers, count of even numbers, count of odd numbers\n",
        "a=int(input(\"enter the first number in the range\"))\n",
        "b=int(input(\"enter the second number in the range\"))\n",
        "for i in range(a,b):\n",
        "if i%2==0:\n",
        "print(\"even numbers are\",i)\n",
        "else:\n",
        "print(\"odd numbers are \",i)\n",
        "enter the first number in the range20\n",
        "enter the second number in the range30\n",
        "even numbers are 20\n",
        "even numbers are 22\n",
        "even numbers are 24\n",
        "even numbers are 26\n",
        "even numbers are 28\n",
        "odd numbers are 29"
      ],
      "metadata": {
        "id": "xxMpwKfg5q-5"
      },
      "execution_count": null,
      "outputs": []
    },
    {
      "cell_type": "code",
      "source": [
        "## Check whether the given input is a) palindrome b) strong c) perfect\n",
        "a=int(input(\"enter the number you want to find palindrome for\"))\n",
        "rev=0\n",
        "temp=a\n",
        "while temp>0:\n",
        "rem=temp%10\n",
        "rev=(rev*10)+rem\n",
        "temp=temp//10\n",
        "if a==rev:\n",
        "print(\"palindrome\")\n",
        "else:\n",
        "print(\"not a plaindrome\")\n",
        "enter the number you want to find palindrome for25\n",
        "not a plaindrome\n",
        "# perfect number\n",
        "a=int(input(\"enter the number\"))\n",
        "sum=0\n",
        "for i in range (1,a):\n",
        "if a%i==0:\n",
        "sum=sum+i\n",
        "if sum==a:\n",
        "print(\"perfect number\")\n",
        "else:\n",
        "print(\"not a perfect number\")\n",
        "enter the number25\n",
        "not a perfect number\n",
        "#strong number\n",
        "a=int(input(\"enter the number\"))\n",
        "sum=0\n",
        "temp=a\n",
        "while temp>0:\n",
        "fact=1\n",
        "i=1\n",
        "rem=temp%10\n",
        "while i<=rem:\n",
        "fact=fact*i\n",
        "i=i+1\n",
        "sum=sum+fact\n",
        "temp=temp//10\n",
        "print(sum)\n",
        "if a==sum:\n",
        "print(\"yes it is strong number\")\n",
        "else:\n",
        "print(\"no\")\n"
      ],
      "metadata": {
        "id": "qYd7WVVr5urp"
      },
      "execution_count": null,
      "outputs": []
    },
    {
      "cell_type": "code",
      "source": [
        "## Compute compound interest using loop for a certain principal and interest amount\n",
        "import math\n",
        "p=int(input(\"enter the principal amount\"))\n",
        "r=int(input(\"enter the intrest amount\"))\n",
        "t=int(input(\"amount of years\"))\n",
        "for i in range(1,t+1):\n",
        "si=(p*i*r)//100\n",
        "print(i,\"yr interst si is \",si)\n",
        "ci=p*(math.pow(1+r/100,i))\n",
        "print(i,\"yr interst ci is \",ci)\n",
        "enter the principal amount100\n",
        "enter the intrest amount5\n",
        "amount of years2\n",
        "1 yr interst si is 5\n",
        "1 yr interst ci is 105.0\n",
        "2 yr interst si is 10\n",
        "2 yr interst ci is 110.25"
      ],
      "metadata": {
        "id": "_i6Zh-Dq544J"
      },
      "execution_count": null,
      "outputs": []
    },
    {
      "cell_type": "code",
      "source": [
        "|"
      ],
      "metadata": {
        "id": "EvdrJQ6x6BJp"
      },
      "execution_count": null,
      "outputs": []
    }
  ]
}