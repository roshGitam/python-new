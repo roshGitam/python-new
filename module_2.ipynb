{
  "nbformat": 4,
  "nbformat_minor": 0,
  "metadata": {
    "colab": {
      "name": "module 2",
      "provenance": [],
      "authorship_tag": "ABX9TyMxCSAkPRlP9iYJbi7Vgegd",
      "include_colab_link": true
    },
    "kernelspec": {
      "name": "python3",
      "display_name": "Python 3"
    },
    "language_info": {
      "name": "python"
    }
  },
  "cells": [
    {
      "cell_type": "markdown",
      "metadata": {
        "id": "view-in-github",
        "colab_type": "text"
      },
      "source": [
        "<a href=\"https://colab.research.google.com/github/roshGitam/python-new/blob/MODULE-2/module_2.ipynb\" target=\"_parent\"><img src=\"https://colab.research.google.com/assets/colab-badge.svg\" alt=\"Open In Colab\"/></a>"
      ]
    },
    {
      "cell_type": "code",
      "execution_count": null,
      "metadata": {
        "id": "YeqBnzKA7e2_"
      },
      "outputs": [],
      "source": [
        "##Create a function which accepts two inputs from the user and compute nCr\n",
        "def fact(z):\n",
        "f = 1\n",
        "if z == 0:\n",
        "return f;\n",
        "else:\n",
        "for i in range(1,z+1):\n",
        "f = f * i;\n",
        "return f;\n",
        "n=int(input(\"Enter the value of n\"))\n",
        "r = int(input(\"Enter the value of r\"))\n",
        "nCr = fact(n) / (fact(r) * fact(n - r));\n",
        "print(\"\\nnCr = %d\" %(nCr));\n",
        "Enter the value of n3\n",
        "Enter the value of r7\n",
        "nCr = 0\n"
      ]
    },
    {
      "cell_type": "code",
      "source": [
        "##Program to get the difference between the two lists.\n",
        "def Diff(A, B):\n",
        "print(\"Difference of two lists ::>\")\n",
        "return (list(set(A) - set(B)))\n",
        "# Driver Code\n",
        "A=list()\n",
        "n1=int(input(\"Enter the size of the first List ::\"))\n",
        "print(\"Enter the Element of first List ::\")\n",
        "for i in range(int(n1)):\n",
        "k=int(input(\"\"))\n",
        "A.append(k)\n",
        "B=list()\n",
        "n2=int(input(\"Enter the size of the second List ::\"))\n",
        "print(\"Enter the Element of second List ::\")\n",
        "for i in range(int(n2)):\n",
        "k=int(input(\"\"))\n",
        "B.append(k)\n",
        "print(Diff(A, B))\n",
        "Enter the size of the first List ::4\n",
        "Enter the Element of first List ::\n",
        "1\n",
        "2\n",
        "3\n",
        "4\n",
        "Enter the size of the second List ::3\n",
        "Enter the Element of second List ::\n",
        "1\n",
        "2\n",
        "3\n",
        "Difference of two lists ::>\n",
        "[4]\n",
        "def Diff(li1, li2):\n",
        "return list(set(li1) - set(li2)) + list(set(li2) - set(li1))\n",
        "# Driver Code\n",
        "li1 = [10, 15, 20, 25, 30, 35, 40]\n",
        "li2 = [25, 40, 35]\n",
        "print(Diff(li1, li2))\n",
        "[10, 20, 30, 15]"
      ],
      "metadata": {
        "id": "ZqlTWewV7ivJ"
      },
      "execution_count": null,
      "outputs": []
    },
    {
      "cell_type": "code",
      "source": [
        "##Python program to create a list of tuples having first element as the number and second\n",
        "list1 = [1, 2, 5, 6]\n",
        "res = [(val, pow(val, 2)) for val in list1]\n",
        "print(res)\n",
        "[(1, 1), (2, 4), (5, 25), (6, 36)]\n",
        "##Program to remove a key from a dictionary\n",
        "myDict = {'a':1,'b':2,'c':3,'d':4}\n",
        "print(myDict)\n",
        "if 'a' in myDict:\n",
        "del myDict['a']\n",
        "print(myDict)\n",
        "{'a': 1, 'b': 2, 'c': 3, 'd': 4}\n",
        "{'b': 2, 'c': 3, 'd': 4}"
      ],
      "metadata": {
        "id": "4lG0jIUT71oq"
      },
      "execution_count": null,
      "outputs": []
    },
    {
      "cell_type": "code",
      "source": [
        "##Given list of tuples, remove all the tuples with length K.\n",
        "test_list = [(4, 5), (4, ), (8, 6, 7), (1, ), (3, 4, 6, 7)]\n",
        "print(\"The original list : \" + str(test_list))\n",
        "K=1\n",
        "res = [ele for ele in test_list if len(ele) != K]\n",
        "print(\"Filtered list : \" + str(res))\n",
        "The original list : [(4, 5), (4,), (8, 6, 7), (1,), (3, 4, 6, 7)]\n",
        "Filtered list : [(4, 5), (8, 6, 7), (3, 4, 6, 7)]\n",
        "##Program to get the maximum and minimum value in a dictionary\n",
        "dictionary = {\"a\": 5, \"b\": 2, \"c\": 8}\n",
        "min_key = min(dictionary, key=dictionary.get)\n",
        "print(min_key)\n",
        "print(dictionary.get(min_key))\n",
        "b\n",
        "2"
      ],
      "metadata": {
        "id": "zMCFPC8L8Wto"
      },
      "execution_count": null,
      "outputs": []
    },
    {
      "cell_type": "code",
      "source": [
        "##replace a string with another\n",
        "txt = \"I like bananas\"\n",
        "x = txt.replace(\"bananas\", \"apples\")\n",
        "print(x)\n",
        "I like apples"
      ],
      "metadata": {
        "id": "Zo_CE5n78sEY"
      },
      "execution_count": null,
      "outputs": []
    },
    {
      "cell_type": "code",
      "source": [
        "##Python function that accepts a string and calculates the number of uppercase letters and\n",
        "def string_test(s):\n",
        "d={\"UPPER_CASE\":0, \"LOWER_CASE\":0}\n",
        "for c in s:\n",
        "if c.isupper():\n",
        "d[\"UPPER_CASE\"]+=1\n",
        "elif c.islower():\n",
        "d[\"LOWER_CASE\"]+=1\n",
        "else:\n",
        "pass\n",
        "print (\"Original String : \", s)\n",
        "print (\"No. of Upper case characters : \", d[\"UPPER_CASE\"])\n",
        "print (\"No. of Lower case Characters : \", d[\"LOWER_CASE\"])\n",
        "string_test('The quick Brown Fox')\n",
        "Original String : The quick Brown Fox\n",
        "No. of Upper case characters : 3\n",
        "No. of Lower case Characters : 13"
      ],
      "metadata": {
        "id": "O2Gx4qwQ84do"
      },
      "execution_count": null,
      "outputs": []
    },
    {
      "cell_type": "code",
      "source": [
        "##Program to Acronym generator for any user input\n",
        "user_input = str(input(\"Enter a Phrase: \"))\n",
        "text = user_input.split()\n",
        "a = \" \"\n",
        "for i in text:\n",
        "a = a+str(i[0]).upper()\n",
        "print(a)\n",
        "Enter a Phrase: sudh\n",
        " S\n"
      ],
      "metadata": {
        "id": "NNKj7q9R9IbI"
      },
      "execution_count": null,
      "outputs": []
    },
    {
      "cell_type": "code",
      "source": [
        "##Program to generate and print a dictionary that contains a number\n",
        "n=int(input(\"Input a number \"))\n",
        "d = dict()\n",
        "for x in range(1,n+1):\n",
        "d[x]=x*x\n",
        "print(d)\n",
        "Input a number 2\n",
        "{1: 1, 2: 4}"
      ],
      "metadata": {
        "colab": {
          "base_uri": "https://localhost:8080/",
          "height": 135
        },
        "id": "5vH3PK2a9WZI",
        "outputId": "5804c361-75ab-478d-82dc-aa7c5fb3d329"
      },
      "execution_count": 22,
      "outputs": [
        {
          "output_type": "error",
          "ename": "IndentationError",
          "evalue": "ignored",
          "traceback": [
            "\u001b[0;36m  File \u001b[0;32m\"<ipython-input-22-260f8b3839b7>\"\u001b[0;36m, line \u001b[0;32m5\u001b[0m\n\u001b[0;31m    d[x]=x*x\u001b[0m\n\u001b[0m    ^\u001b[0m\n\u001b[0;31mIndentationError\u001b[0m\u001b[0;31m:\u001b[0m expected an indented block\n"
          ]
        }
      ]
    },
    {
      "cell_type": "code",
      "source": [
        "##Program for Counting occurrence of a certain element in a string, getting indexes that h\n",
        "a=\"i am watching movie with my dad\"\n",
        "print(a.count(\"a\"))\n",
        "3\n"
      ],
      "metadata": {
        "colab": {
          "base_uri": "https://localhost:8080/"
        },
        "id": "4DNrR8HT9qHn",
        "outputId": "b69ba3e6-5a98-45b5-aadd-6d9a8e52d582"
      },
      "execution_count": 9,
      "outputs": [
        {
          "output_type": "stream",
          "name": "stdout",
          "text": [
            "3\n"
          ]
        },
        {
          "output_type": "execute_result",
          "data": {
            "text/plain": [
              "3"
            ]
          },
          "metadata": {},
          "execution_count": 9
        }
      ]
    },
    {
      "cell_type": "code",
      "source": [
        "##prime numbers\n",
        "min = int(input(\"Enter the min : \"))\n",
        "max = int(input(\"Enter the max : \"))\n",
        "for n in range(min,max + 1):\n",
        "if n > 1:\n",
        "for i in range(2,n):\n",
        "if (n % i) == 0:\n",
        "break\n",
        "else:\n",
        "print(n)\n"
      ],
      "metadata": {
        "id": "4BT4nNh09tO3"
      },
      "execution_count": null,
      "outputs": []
    },
    {
      "cell_type": "code",
      "source": [
        "##print the no of days in a month\n",
        "class Solution(object):\n",
        "def numberOfDays(self, y, m):\n",
        "leap = 0\n",
        "if y% 400 == 0:\n",
        "leap = 1\n",
        "elif y % 100 == 0:\n",
        "leap = 0\n",
        "elif y% 4 == 0:\n",
        "leap = 1\n",
        "if m==2:\n",
        "return 28 + leap\n",
        "list = [1,3,5,7,8,10,12]\n",
        "if m in list:\n",
        "return 31\n",
        "return 30\n",
        "ob1 = Solution()\n",
        "print(ob1.numberOfDays(2020, 2))"
      ],
      "metadata": {
        "id": "dTHVpN9i9-KF"
      },
      "execution_count": null,
      "outputs": []
    },
    {
      "cell_type": "code",
      "source": [
        "##print the no of days in a month\n",
        "class Solution(object):\n",
        "def numberOfDays(self, y, m):\n",
        "leap = 0\n",
        "if y% 400 == 0:\n",
        "leap = 1\n",
        "elif y % 100 == 0:\n",
        "leap = 0\n",
        "elif y% 4 == 0:\n",
        "leap = 1\n",
        "if m==2:\n",
        "return 28 + leap\n",
        "list = [1,3,5,7,8,10,12]\n",
        "if m in list:\n",
        "return 31\n",
        "return 30\n",
        "ob1 = Solution()\n",
        "print(ob1.numberOfDays(2020, 2))"
      ],
      "metadata": {
        "id": "V5jQ-Lxm-Ien"
      },
      "execution_count": null,
      "outputs": []
    },
    {
      "cell_type": "code",
      "source": [
        "##ACCESS ITEMS\n",
        "#loops through sets\n",
        "thisset = {\"a\", \"b\", \"c\"}\n",
        "for x in thisset:\n",
        "print(x)"
      ],
      "metadata": {
        "id": "6kn-uWud-XnY"
      },
      "execution_count": null,
      "outputs": []
    },
    {
      "cell_type": "code",
      "source": [
        "##add item\n",
        "thisset = {\"a\", \"b\", \"c\"}\n",
        "thisset.add(\"d\")\n",
        "print(thisset)\n",
        "{'c', 'd', 'a', 'b'}"
      ],
      "metadata": {
        "colab": {
          "base_uri": "https://localhost:8080/"
        },
        "id": "hNa6TGOp-sFY",
        "outputId": "4766f30a-9d99-4440-bb5c-0689a328c5aa"
      },
      "execution_count": 15,
      "outputs": [
        {
          "output_type": "stream",
          "name": "stdout",
          "text": [
            "{'d', 'c', 'b', 'a'}\n"
          ]
        },
        {
          "output_type": "execute_result",
          "data": {
            "text/plain": [
              "{'a', 'b', 'c', 'd'}"
            ]
          },
          "metadata": {},
          "execution_count": 15
        }
      ]
    },
    {
      "cell_type": "code",
      "source": [
        "##remove item\n",
        "thisset = {\"a\", \"b\", \"c\"}\n",
        "thisset.remove(\"b\")\n",
        "print(thisset)\n",
        "{'c', 'a'}"
      ],
      "metadata": {
        "colab": {
          "base_uri": "https://localhost:8080/"
        },
        "id": "1stkxrYp-4x3",
        "outputId": "d665b93a-ca15-4dec-9739-6c901557f80a"
      },
      "execution_count": 16,
      "outputs": [
        {
          "output_type": "stream",
          "name": "stdout",
          "text": [
            "{'c', 'a'}\n"
          ]
        },
        {
          "output_type": "execute_result",
          "data": {
            "text/plain": [
              "{'a', 'c'}"
            ]
          },
          "metadata": {},
          "execution_count": 16
        }
      ]
    },
    {
      "cell_type": "code",
      "source": [
        "##loop\n",
        "thisset = {\"a\", \"b\", \"c\"}\n",
        "for x in thisset:\n",
        "print(x)\n"
      ],
      "metadata": {
        "id": "B8RdXfPv-702"
      },
      "execution_count": null,
      "outputs": []
    },
    {
      "cell_type": "code",
      "source": [
        "##join\n",
        "set1 = {\"a\", \"b\" , \"c\"}\n",
        "set2 = {1, 2, 3}\n",
        "set3 = set1.union(set2)\n",
        "print(set3)\n"
      ],
      "metadata": {
        "colab": {
          "base_uri": "https://localhost:8080/"
        },
        "id": "xLMajS2U_CJ2",
        "outputId": "2c903c7b-97e1-4d9a-fd86-7c335f4f5474"
      },
      "execution_count": 18,
      "outputs": [
        {
          "output_type": "stream",
          "name": "stdout",
          "text": [
            "{'c', 1, 2, 3, 'a', 'b'}\n"
          ]
        }
      ]
    },
    {
      "cell_type": "code",
      "source": [
        "a=\"sudheshna\"\n",
        "print(a)\n",
        "print(type(a))\n",
        "print(a[7])\n",
        "sudheshna\n",
        "<class 'str'>\n",
        "n\n"
      ],
      "metadata": {
        "id": "qlHh1pPD_dlX"
      },
      "execution_count": null,
      "outputs": []
    },
    {
      "cell_type": "code",
      "source": [
        "## length of the string\n",
        "a=\"hello string\"\n",
        "print(len(a))\n",
        "12\n",
        "a=\"rrr has been release\"\n",
        "print(\"rrr\"in a)"
      ],
      "metadata": {
        "colab": {
          "base_uri": "https://localhost:8080/"
        },
        "id": "bnlwgCkV_4nH",
        "outputId": "384006d2-1993-4018-8aa7-86097f78fa5a"
      },
      "execution_count": 20,
      "outputs": [
        {
          "output_type": "stream",
          "name": "stdout",
          "text": [
            "12\n",
            "True\n"
          ]
        }
      ]
    },
    {
      "cell_type": "code",
      "source": [
        "a=\"rrr has been released\"\n",
        "print(\"svp\" in a)\n",
        "False\n",
        "a=\"rrr has been released\"\n",
        "print(a[2:15])\n"
      ],
      "metadata": {
        "colab": {
          "base_uri": "https://localhost:8080/"
        },
        "id": "YVvaoWx8_9yH",
        "outputId": "d395f248-1977-4730-dd37-1f3b65bef36c"
      },
      "execution_count": 21,
      "outputs": [
        {
          "output_type": "stream",
          "name": "stdout",
          "text": [
            "False\n",
            "r has been re\n"
          ]
        }
      ]
    },
    {
      "cell_type": "code",
      "source": [
        ""
      ],
      "metadata": {
        "id": "-wS5dbwCADyn"
      },
      "execution_count": null,
      "outputs": []
    }
  ]
}